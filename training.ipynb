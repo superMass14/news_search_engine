{
 "cells": [
  {
   "cell_type": "code",
   "id": "initial_id",
   "metadata": {
    "collapsed": true
   },
   "source": [
    "import pandas as pd\n",
    "\n",
    "data = pd.read_csv('news.csv', index_col=0)\n",
    "data.head()"
   ],
   "outputs": [],
   "execution_count": null
  },
  {
   "metadata": {},
   "cell_type": "code",
   "source": [
    "data_copy = data.copy()\n",
    "data_copy[\"Sent_label\"] = data_copy[\"Sentiment\"].map(lambda x: \"positive\" if x > 0.05 else \"negative\" if x < -0.05 else \"neutral\")\n",
    "data_copy[\"Org_label\"] = data_copy[\"Org\"].map(lambda x: x if len(x) > 0 else \"No orgs\" )\n",
    "\n",
    "targets = [\"headline\", \"Date scraped\", \"Topics\", \"Sent_label\", \"Org_label\"]\n",
    "data_copy[\"metadatas\"] = data_copy[targets].apply(lambda x: x.to_dict(), axis=1)"
   ],
   "id": "e44a90ae21d97211",
   "outputs": [],
   "execution_count": null
  },
  {
   "metadata": {},
   "cell_type": "code",
   "source": "data_copy[\"metadatas\"]",
   "id": "6535a3dd968c6e80",
   "outputs": [],
   "execution_count": null
  },
  {
   "metadata": {},
   "cell_type": "code",
   "source": [
    "import os\n",
    "os.environ[\"ANONYMIZED_TELEMETRY\"] = \"false\""
   ],
   "id": "ff29eacc4c6377e4",
   "outputs": [],
   "execution_count": null
  },
  {
   "metadata": {},
   "cell_type": "code",
   "source": [
    "import chromadb\n",
    "from chromadb.utils import embedding_functions\n",
    "server = chromadb.PersistentClient(path=\"v_db1\")\n",
    "embedder =  embedding_functions.SentenceTransformerEmbeddingFunction(model_name=\"paraphrase-multilingual-MiniLM-L12-v2\", normalize_embeddings=True)"
   ],
   "id": "7ea4a8605e251cab",
   "outputs": [],
   "execution_count": null
  },
  {
   "metadata": {},
   "cell_type": "code",
   "source": [
    "collection =  server.get_or_create_collection(\n",
    "                                            \"articles\",\n",
    "                                            embedding_function=embedder,\n",
    "                                            metadata={\n",
    "                                                \"title\": \"News article\",\n",
    "                                                \"description\": \"to provide\",\n",
    "                                                \"author\": \"mthiaw\",\n",
    "                                            }\n",
    "                                            )"
   ],
   "id": "374f7147a3965d5f",
   "outputs": [],
   "execution_count": null
  },
  {
   "metadata": {},
   "cell_type": "code",
   "source": [
    "collection.add(\n",
    "    ids = data_copy[\"Unique ID\"].tolist(),\n",
    "    documents = data_copy[\"body\"].tolist(),\n",
    "    metadatas= data_copy[\"metadatas\"].tolist()\n",
    ")"
   ],
   "id": "80c4f726b7f6a084",
   "outputs": [],
   "execution_count": null
  },
  {
   "metadata": {},
   "cell_type": "code",
   "source": [
    "res = collection.query(\n",
    "    query_texts=\"guerre entre israel et palestine\",\n",
    "    n_results=5,\n",
    "\n",
    ")\n",
    "res"
   ],
   "id": "efeaf07e35fe5d0",
   "outputs": [],
   "execution_count": null
  },
  {
   "metadata": {},
   "cell_type": "code",
   "source": [
    "texte = \"Ceci est un exemple de texte très long à formater proprement.\"\n",
    "print(f\"{texte[:125]}...\")"
   ],
   "id": "6772a95f9a39c54b",
   "outputs": [],
   "execution_count": null
  },
  {
   "metadata": {},
   "cell_type": "code",
   "source": [
    "for i in range(5):\n",
    "    print('-', res[\"metadatas\"][0][i])"
   ],
   "id": "e4e9a7210c5ed727",
   "outputs": [],
   "execution_count": null
  }
 ],
 "metadata": {
  "kernelspec": {
   "display_name": "Python 3",
   "language": "python",
   "name": "python3"
  },
  "language_info": {
   "codemirror_mode": {
    "name": "ipython",
    "version": 2
   },
   "file_extension": ".py",
   "mimetype": "text/x-python",
   "name": "python",
   "nbconvert_exporter": "python",
   "pygments_lexer": "ipython2",
   "version": "2.7.6"
  }
 },
 "nbformat": 4,
 "nbformat_minor": 5
}
